{
 "cells": [
  {
   "cell_type": "markdown",
   "metadata": {},
   "source": [
    "# Project Proposal"
   ]
  },
  {
   "cell_type": "markdown",
   "metadata": {},
   "source": [
    "# *insert title*"
   ]
  },
  {
   "cell_type": "markdown",
   "metadata": {},
   "source": [
    "## Introduction"
   ]
  },
  {
   "cell_type": "markdown",
   "metadata": {},
   "source": [
    "### Background Information and Question\n",
    "When a supergiant star (a highly luminous type of star) dies and collapses in an event called a supernova, its proton and electron located in the star's core merge and create neutrons and ultimately form neutron stars. A particular type of neutron star, pulsars, emit two beams of electromagnetic radiation from two magnetic poles and rotate quickly in a way that the the radio emissions patterns are detectable on Earth.\n",
    "\n",
    "Pulsars are very important tools used by astronomers. Due to a pulsar's consistent radio emmisions in time, astronomers are able to estimate distances of various cosmic objects using the distance of pulsar and time it takes the radio waves to reach Earth. Additionally, since pulsars are a type of neutron star, astronmers study the inside of the pulsars, especially the obscure state of matter every neutron star contains.\n",
    "\n",
    "Although every pulsar produces a unique radio emission pattern that slightly changes per rotation. Possible pulsars signals known as \"candidates\" are averaged over many rotations in order to determine whether the signal is a real pulsar or not. Unfortunately, many false signals are picked up from unwanted radio frequency interference and other noise, resulting in difficulty in identifying pulsars. \n",
    "\n",
    "The question that we are asking: Is the radio signal detected that is quantified by the integrated profile and DM-SNR curve a potential pulsar star candidate or not? \n",
    "\n",
    "\n",
    "\n",
    "\n",
    "### Dataset used\n",
    "The dataset that will be used is the Pulsar Star dataset, which can be found [here](https://archive.ics.uci.edu/ml/datasets/HTRU2#). This dataset describes a sample of pulsar candidates collected during the High Time Resolution Universe Survey, an all-sky survey for pulsars and short-duration radio transients.\n",
    "\n",
    "A candidate is a potential signal detection that may describe a real pulsar and each row of this dataset is a candidate observation. Each column is a variable and there are 9 variables. The first 8 variables are the mean, standard deviation, excess kurtosis, and skewness, of the integrated pulse profile and of the the DM-SNR curve. \n",
    "\n",
    "Since pulsars are weak radio sources, many inidividual pulses must be summed to produce a signal that is distinguishable from noise and the detection of the pulsar can be made. The signal resulted from this sum of pulses is called the integrated pulse profile and it is similar to a pulsar's \"fingerprint\".\n",
    "\n",
    "!!!The Dispersion Measure/Signal-to-Noise Ratio (DM/SNR) is a measure that compares the level of a desired signal and the level of background noise.\n",
    "\n",
    "The last variable is the class label. It is 1 if the candidate is a real pulsar and 0 otherwise."
   ]
  },
  {
   "cell_type": "markdown",
   "metadata": {},
   "source": [
    "## Preliminary Data Analysis"
   ]
  },
  {
   "cell_type": "code",
   "execution_count": null,
   "metadata": {},
   "outputs": [],
   "source": []
  },
  {
   "cell_type": "code",
   "execution_count": 1,
   "metadata": {},
   "outputs": [
    {
     "name": "stderr",
     "output_type": "stream",
     "text": [
      "── \u001b[1mAttaching packages\u001b[22m ─────────────────────────────────────── tidyverse 1.3.0 ──\n",
      "\n",
      "\u001b[32m✔\u001b[39m \u001b[34mggplot2\u001b[39m 3.3.2     \u001b[32m✔\u001b[39m \u001b[34mpurrr  \u001b[39m 0.3.4\n",
      "\u001b[32m✔\u001b[39m \u001b[34mtibble \u001b[39m 3.0.3     \u001b[32m✔\u001b[39m \u001b[34mdplyr  \u001b[39m 1.0.2\n",
      "\u001b[32m✔\u001b[39m \u001b[34mtidyr  \u001b[39m 1.1.2     \u001b[32m✔\u001b[39m \u001b[34mstringr\u001b[39m 1.4.0\n",
      "\u001b[32m✔\u001b[39m \u001b[34mreadr  \u001b[39m 1.3.1     \u001b[32m✔\u001b[39m \u001b[34mforcats\u001b[39m 0.5.0\n",
      "\n",
      "Warning message:\n",
      "“package ‘ggplot2’ was built under R version 4.0.1”\n",
      "Warning message:\n",
      "“package ‘tibble’ was built under R version 4.0.2”\n",
      "Warning message:\n",
      "“package ‘tidyr’ was built under R version 4.0.2”\n",
      "Warning message:\n",
      "“package ‘dplyr’ was built under R version 4.0.2”\n",
      "── \u001b[1mConflicts\u001b[22m ────────────────────────────────────────── tidyverse_conflicts() ──\n",
      "\u001b[31m✖\u001b[39m \u001b[34mdplyr\u001b[39m::\u001b[32mfilter()\u001b[39m masks \u001b[34mstats\u001b[39m::filter()\n",
      "\u001b[31m✖\u001b[39m \u001b[34mdplyr\u001b[39m::\u001b[32mlag()\u001b[39m    masks \u001b[34mstats\u001b[39m::lag()\n",
      "\n",
      "Warning message:\n",
      "“package ‘tidymodels’ was built under R version 4.0.2”\n",
      "── \u001b[1mAttaching packages\u001b[22m ────────────────────────────────────── tidymodels 0.1.1 ──\n",
      "\n",
      "\u001b[32m✔\u001b[39m \u001b[34mbroom    \u001b[39m 0.7.0      \u001b[32m✔\u001b[39m \u001b[34mrecipes  \u001b[39m 0.1.13\n",
      "\u001b[32m✔\u001b[39m \u001b[34mdials    \u001b[39m 0.0.9      \u001b[32m✔\u001b[39m \u001b[34mrsample  \u001b[39m 0.0.7 \n",
      "\u001b[32m✔\u001b[39m \u001b[34minfer    \u001b[39m 0.5.4      \u001b[32m✔\u001b[39m \u001b[34mtune     \u001b[39m 0.1.1 \n",
      "\u001b[32m✔\u001b[39m \u001b[34mmodeldata\u001b[39m 0.0.2      \u001b[32m✔\u001b[39m \u001b[34mworkflows\u001b[39m 0.2.0 \n",
      "\u001b[32m✔\u001b[39m \u001b[34mparsnip  \u001b[39m 0.1.3      \u001b[32m✔\u001b[39m \u001b[34myardstick\u001b[39m 0.0.7 \n",
      "\n",
      "Warning message:\n",
      "“package ‘broom’ was built under R version 4.0.2”\n",
      "Warning message:\n",
      "“package ‘dials’ was built under R version 4.0.2”\n",
      "Warning message:\n",
      "“package ‘infer’ was built under R version 4.0.3”\n",
      "Warning message:\n",
      "“package ‘modeldata’ was built under R version 4.0.1”\n",
      "Warning message:\n",
      "“package ‘parsnip’ was built under R version 4.0.2”\n",
      "Warning message:\n",
      "“package ‘recipes’ was built under R version 4.0.1”\n",
      "Warning message:\n",
      "“package ‘tune’ was built under R version 4.0.2”\n",
      "Warning message:\n",
      "“package ‘workflows’ was built under R version 4.0.2”\n",
      "Warning message:\n",
      "“package ‘yardstick’ was built under R version 4.0.2”\n",
      "── \u001b[1mConflicts\u001b[22m ───────────────────────────────────────── tidymodels_conflicts() ──\n",
      "\u001b[31m✖\u001b[39m \u001b[34mscales\u001b[39m::\u001b[32mdiscard()\u001b[39m masks \u001b[34mpurrr\u001b[39m::discard()\n",
      "\u001b[31m✖\u001b[39m \u001b[34mdplyr\u001b[39m::\u001b[32mfilter()\u001b[39m   masks \u001b[34mstats\u001b[39m::filter()\n",
      "\u001b[31m✖\u001b[39m \u001b[34mrecipes\u001b[39m::\u001b[32mfixed()\u001b[39m  masks \u001b[34mstringr\u001b[39m::fixed()\n",
      "\u001b[31m✖\u001b[39m \u001b[34mdplyr\u001b[39m::\u001b[32mlag()\u001b[39m      masks \u001b[34mstats\u001b[39m::lag()\n",
      "\u001b[31m✖\u001b[39m \u001b[34myardstick\u001b[39m::\u001b[32mspec()\u001b[39m masks \u001b[34mreadr\u001b[39m::spec()\n",
      "\u001b[31m✖\u001b[39m \u001b[34mrecipes\u001b[39m::\u001b[32mstep()\u001b[39m   masks \u001b[34mstats\u001b[39m::step()\n",
      "\n"
     ]
    }
   ],
   "source": [
    "set.seed(2000)\n",
    "library(tidyverse)\n",
    "library(tidymodels)\n",
    "library(repr)\n",
    "options(repr.matrix.max.rows = 6)\n"
   ]
  },
  {
   "cell_type": "code",
   "execution_count": 2,
   "metadata": {},
   "outputs": [
    {
     "name": "stderr",
     "output_type": "stream",
     "text": [
      "Parsed with column specification:\n",
      "cols(\n",
      "  X1 = \u001b[32mcol_double()\u001b[39m,\n",
      "  X2 = \u001b[32mcol_double()\u001b[39m,\n",
      "  X3 = \u001b[32mcol_double()\u001b[39m,\n",
      "  X4 = \u001b[32mcol_double()\u001b[39m,\n",
      "  X5 = \u001b[32mcol_double()\u001b[39m,\n",
      "  X6 = \u001b[32mcol_double()\u001b[39m,\n",
      "  X7 = \u001b[32mcol_double()\u001b[39m,\n",
      "  X8 = \u001b[32mcol_double()\u001b[39m,\n",
      "  X9 = \u001b[32mcol_double()\u001b[39m\n",
      ")\n",
      "\n"
     ]
    }
   ],
   "source": [
    "temp <- tempfile()\n",
    "download.file(\"https://archive.ics.uci.edu/ml/machine-learning-databases/00372/HTRU2.zip\", temp)\n",
    "pulsar_file <- unz(temp, \"HTRU_2.csv\")\n",
    "pulsar <- read_csv(pulsar_file, col_names = FALSE)\n"
   ]
  },
  {
   "cell_type": "code",
   "execution_count": 3,
   "metadata": {},
   "outputs": [
    {
     "data": {
      "text/html": [
       "<table>\n",
       "<caption>A spec_tbl_df: 17898 × 9</caption>\n",
       "<thead>\n",
       "\t<tr><th scope=col>mean_ip</th><th scope=col>std_ip</th><th scope=col>kurt_ip</th><th scope=col>skew_ip</th><th scope=col>mean_dm_snr</th><th scope=col>std_dm_snr</th><th scope=col>kurt_dm_snr</th><th scope=col>skew_dm_snr</th><th scope=col>class</th></tr>\n",
       "\t<tr><th scope=col>&lt;dbl&gt;</th><th scope=col>&lt;dbl&gt;</th><th scope=col>&lt;dbl&gt;</th><th scope=col>&lt;dbl&gt;</th><th scope=col>&lt;dbl&gt;</th><th scope=col>&lt;dbl&gt;</th><th scope=col>&lt;dbl&gt;</th><th scope=col>&lt;dbl&gt;</th><th scope=col>&lt;fct&gt;</th></tr>\n",
       "</thead>\n",
       "<tbody>\n",
       "\t<tr><td>140.5625</td><td>55.68378</td><td>-0.2345714</td><td>-0.6996484</td><td>3.199833</td><td>19.11043</td><td> 7.975532</td><td> 74.24222</td><td>0</td></tr>\n",
       "\t<tr><td>102.5078</td><td>58.88243</td><td> 0.4653182</td><td>-0.5150879</td><td>1.677258</td><td>14.86015</td><td>10.576487</td><td>127.39358</td><td>0</td></tr>\n",
       "\t<tr><td>103.0156</td><td>39.34165</td><td> 0.3233284</td><td> 1.0511644</td><td>3.121237</td><td>21.74467</td><td> 7.735822</td><td> 63.17191</td><td>0</td></tr>\n",
       "\t<tr><td>⋮</td><td>⋮</td><td>⋮</td><td>⋮</td><td>⋮</td><td>⋮</td><td>⋮</td><td>⋮</td><td>⋮</td></tr>\n",
       "\t<tr><td>119.3359</td><td>59.93594</td><td>0.1593631</td><td>-0.74302540</td><td> 21.430602</td><td>58.87200</td><td> 2.499517</td><td>  4.595173</td><td>0</td></tr>\n",
       "\t<tr><td>114.5078</td><td>53.90240</td><td>0.2011614</td><td>-0.02478884</td><td>  1.946488</td><td>13.38173</td><td>10.007967</td><td>134.238910</td><td>0</td></tr>\n",
       "\t<tr><td> 57.0625</td><td>85.79734</td><td>1.4063910</td><td> 0.08951971</td><td>188.306020</td><td>64.71256</td><td>-1.597527</td><td>  1.429475</td><td>0</td></tr>\n",
       "</tbody>\n",
       "</table>\n"
      ],
      "text/latex": [
       "A spec\\_tbl\\_df: 17898 × 9\n",
       "\\begin{tabular}{lllllllll}\n",
       " mean\\_ip & std\\_ip & kurt\\_ip & skew\\_ip & mean\\_dm\\_snr & std\\_dm\\_snr & kurt\\_dm\\_snr & skew\\_dm\\_snr & class\\\\\n",
       " <dbl> & <dbl> & <dbl> & <dbl> & <dbl> & <dbl> & <dbl> & <dbl> & <fct>\\\\\n",
       "\\hline\n",
       "\t 140.5625 & 55.68378 & -0.2345714 & -0.6996484 & 3.199833 & 19.11043 &  7.975532 &  74.24222 & 0\\\\\n",
       "\t 102.5078 & 58.88243 &  0.4653182 & -0.5150879 & 1.677258 & 14.86015 & 10.576487 & 127.39358 & 0\\\\\n",
       "\t 103.0156 & 39.34165 &  0.3233284 &  1.0511644 & 3.121237 & 21.74467 &  7.735822 &  63.17191 & 0\\\\\n",
       "\t ⋮ & ⋮ & ⋮ & ⋮ & ⋮ & ⋮ & ⋮ & ⋮ & ⋮\\\\\n",
       "\t 119.3359 & 59.93594 & 0.1593631 & -0.74302540 &  21.430602 & 58.87200 &  2.499517 &   4.595173 & 0\\\\\n",
       "\t 114.5078 & 53.90240 & 0.2011614 & -0.02478884 &   1.946488 & 13.38173 & 10.007967 & 134.238910 & 0\\\\\n",
       "\t  57.0625 & 85.79734 & 1.4063910 &  0.08951971 & 188.306020 & 64.71256 & -1.597527 &   1.429475 & 0\\\\\n",
       "\\end{tabular}\n"
      ],
      "text/markdown": [
       "\n",
       "A spec_tbl_df: 17898 × 9\n",
       "\n",
       "| mean_ip &lt;dbl&gt; | std_ip &lt;dbl&gt; | kurt_ip &lt;dbl&gt; | skew_ip &lt;dbl&gt; | mean_dm_snr &lt;dbl&gt; | std_dm_snr &lt;dbl&gt; | kurt_dm_snr &lt;dbl&gt; | skew_dm_snr &lt;dbl&gt; | class &lt;fct&gt; |\n",
       "|---|---|---|---|---|---|---|---|---|\n",
       "| 140.5625 | 55.68378 | -0.2345714 | -0.6996484 | 3.199833 | 19.11043 |  7.975532 |  74.24222 | 0 |\n",
       "| 102.5078 | 58.88243 |  0.4653182 | -0.5150879 | 1.677258 | 14.86015 | 10.576487 | 127.39358 | 0 |\n",
       "| 103.0156 | 39.34165 |  0.3233284 |  1.0511644 | 3.121237 | 21.74467 |  7.735822 |  63.17191 | 0 |\n",
       "| ⋮ | ⋮ | ⋮ | ⋮ | ⋮ | ⋮ | ⋮ | ⋮ | ⋮ |\n",
       "| 119.3359 | 59.93594 | 0.1593631 | -0.74302540 |  21.430602 | 58.87200 |  2.499517 |   4.595173 | 0 |\n",
       "| 114.5078 | 53.90240 | 0.2011614 | -0.02478884 |   1.946488 | 13.38173 | 10.007967 | 134.238910 | 0 |\n",
       "|  57.0625 | 85.79734 | 1.4063910 |  0.08951971 | 188.306020 | 64.71256 | -1.597527 |   1.429475 | 0 |\n",
       "\n"
      ],
      "text/plain": [
       "      mean_ip  std_ip   kurt_ip    skew_ip     mean_dm_snr std_dm_snr\n",
       "1     140.5625 55.68378 -0.2345714 -0.6996484  3.199833    19.11043  \n",
       "2     102.5078 58.88243  0.4653182 -0.5150879  1.677258    14.86015  \n",
       "3     103.0156 39.34165  0.3233284  1.0511644  3.121237    21.74467  \n",
       "⋮     ⋮        ⋮        ⋮          ⋮           ⋮           ⋮         \n",
       "17896 119.3359 59.93594 0.1593631  -0.74302540  21.430602  58.87200  \n",
       "17897 114.5078 53.90240 0.2011614  -0.02478884   1.946488  13.38173  \n",
       "17898  57.0625 85.79734 1.4063910   0.08951971 188.306020  64.71256  \n",
       "      kurt_dm_snr skew_dm_snr class\n",
       "1      7.975532    74.24222   0    \n",
       "2     10.576487   127.39358   0    \n",
       "3      7.735822    63.17191   0    \n",
       "⋮     ⋮           ⋮           ⋮    \n",
       "17896  2.499517     4.595173  0    \n",
       "17897 10.007967   134.238910  0    \n",
       "17898 -1.597527     1.429475  0    "
      ]
     },
     "metadata": {},
     "output_type": "display_data"
    }
   ],
   "source": [
    "colnames(pulsar) <- c(\"mean_ip\", \"std_ip\", \"kurt_ip\", \"skew_ip\", \"mean_dm_snr\", \"std_dm_snr\", \"kurt_dm_snr\", \"skew_dm_snr\", \"class\")\n",
    "\n",
    "pulsar_mutate <- pulsar %>%\n",
    "                mutate(class = as_factor(class))\n",
    "pulsar_mutate"
   ]
  },
  {
   "cell_type": "code",
   "execution_count": 4,
   "metadata": {},
   "outputs": [],
   "source": [
    "pulsar_split <- initial_split(pulsar_mutate, prop = 0.75, strata = class)\n",
    "pulsar_train <- training(pulsar_split) \n",
    "pulsar_test <- testing(pulsar_split)"
   ]
  },
  {
   "cell_type": "code",
   "execution_count": 11,
   "metadata": {},
   "outputs": [
    {
     "data": {
      "text/html": [
       "<table>\n",
       "<caption>A tibble: 4474 × 17</caption>\n",
       "<thead>\n",
       "\t<tr><th scope=col>mean_ip</th><th scope=col>std_ip</th><th scope=col>kurt_ip</th><th scope=col>skew_ip</th><th scope=col>mean_dm_snr</th><th scope=col>std_dm_snr</th><th scope=col>kurt_dm_snr</th><th scope=col>skew_dm_snr</th><th scope=col>class</th><th scope=col>scaled_mean_ip</th><th scope=col>scaled_std_ip</th><th scope=col>scaled_kurt_ip</th><th scope=col>scaled_skew_ip</th><th scope=col>scaled_mean_dm_snr</th><th scope=col>scaled_std_dm_snr</th><th scope=col>scaled_kurt_dm_snr</th><th scope=col>scaled_skew_dm_snr</th></tr>\n",
       "\t<tr><th scope=col>&lt;dbl&gt;</th><th scope=col>&lt;dbl&gt;</th><th scope=col>&lt;dbl&gt;</th><th scope=col>&lt;dbl&gt;</th><th scope=col>&lt;dbl&gt;</th><th scope=col>&lt;dbl&gt;</th><th scope=col>&lt;dbl&gt;</th><th scope=col>&lt;dbl&gt;</th><th scope=col>&lt;fct&gt;</th><th scope=col>&lt;dbl[,1]&gt;</th><th scope=col>&lt;dbl[,1]&gt;</th><th scope=col>&lt;dbl[,1]&gt;</th><th scope=col>&lt;dbl[,1]&gt;</th><th scope=col>&lt;dbl[,1]&gt;</th><th scope=col>&lt;dbl[,1]&gt;</th><th scope=col>&lt;dbl[,1]&gt;</th><th scope=col>&lt;dbl[,1]&gt;</th></tr>\n",
       "</thead>\n",
       "<tbody>\n",
       "\t<tr><td>102.5078</td><td>58.88243</td><td> 0.46531815</td><td>-0.5150879</td><td>1.6772575</td><td>14.860146</td><td>10.576487</td><td>127.39358</td><td>0</td><td>-0.3496855</td><td> 1.7987006</td><td> 0.001971987</td><td>-0.3590524</td><td>-0.3631005</td><td>-0.5727080</td><td> 0.4725744</td><td> 0.1819392</td></tr>\n",
       "\t<tr><td>119.4844</td><td>48.76506</td><td> 0.03146022</td><td>-0.1121676</td><td>0.9991639</td><td> 9.279612</td><td>19.206230</td><td>479.75657</td><td>0</td><td> 0.3295950</td><td> 0.3075809</td><td>-0.417837447</td><td>-0.2925451</td><td>-0.3863266</td><td>-0.8623251</td><td> 2.3786190</td><td> 3.4221149</td></tr>\n",
       "\t<tr><td>142.0781</td><td>45.28807</td><td>-0.32032843</td><td> 0.2839525</td><td>5.3762542</td><td>29.009897</td><td> 6.076266</td><td> 37.83139</td><td>0</td><td> 1.2336350</td><td>-0.2048648</td><td>-0.758235030</td><td>-0.2271602</td><td>-0.2364021</td><td> 0.1616322</td><td>-0.5213858</td><td>-0.6416354</td></tr>\n",
       "\t<tr><td>⋮</td><td>⋮</td><td>⋮</td><td>⋮</td><td>⋮</td><td>⋮</td><td>⋮</td><td>⋮</td><td>⋮</td><td>⋮</td><td>⋮</td><td>⋮</td><td>⋮</td><td>⋮</td><td>⋮</td><td>⋮</td><td>⋮</td></tr>\n",
       "\t<tr><td>126.6250</td><td>55.72183</td><td>0.002946216</td><td>-0.30321814</td><td>0.5342809</td><td> 8.588882</td><td>23.913761</td><td>660.1970</td><td>0</td><td> 0.6153116</td><td> 1.3328840</td><td>-0.44542816</td><td>-0.3240805</td><td>-0.4022498</td><td>-0.8981724</td><td>3.418368</td><td> 5.08136638</td></tr>\n",
       "\t<tr><td> 96.0000</td><td>44.19311</td><td>0.388673964</td><td> 0.28134362</td><td>1.8712375</td><td>15.833746</td><td> 9.634927</td><td>104.8216</td><td>0</td><td>-0.6100816</td><td>-0.3662423</td><td>-0.07219043</td><td>-0.2275908</td><td>-0.3564563</td><td>-0.5221803</td><td>0.264613</td><td>-0.02562259</td></tr>\n",
       "\t<tr><td>114.5078</td><td>53.90240</td><td>0.201161383</td><td>-0.02478884</td><td>1.9464883</td><td>13.381731</td><td>10.007967</td><td>134.2389</td><td>0</td><td> 0.1304686</td><td> 1.0647331</td><td>-0.25363128</td><td>-0.2781220</td><td>-0.3538788</td><td>-0.6494344</td><td>0.347006</td><td> 0.24488589</td></tr>\n",
       "</tbody>\n",
       "</table>\n"
      ],
      "text/latex": [
       "A tibble: 4474 × 17\n",
       "\\begin{tabular}{lllllllllllllllll}\n",
       " mean\\_ip & std\\_ip & kurt\\_ip & skew\\_ip & mean\\_dm\\_snr & std\\_dm\\_snr & kurt\\_dm\\_snr & skew\\_dm\\_snr & class & scaled\\_mean\\_ip & scaled\\_std\\_ip & scaled\\_kurt\\_ip & scaled\\_skew\\_ip & scaled\\_mean\\_dm\\_snr & scaled\\_std\\_dm\\_snr & scaled\\_kurt\\_dm\\_snr & scaled\\_skew\\_dm\\_snr\\\\\n",
       " <dbl> & <dbl> & <dbl> & <dbl> & <dbl> & <dbl> & <dbl> & <dbl> & <fct> & <dbl{[},1{]}> & <dbl{[},1{]}> & <dbl{[},1{]}> & <dbl{[},1{]}> & <dbl{[},1{]}> & <dbl{[},1{]}> & <dbl{[},1{]}> & <dbl{[},1{]}>\\\\\n",
       "\\hline\n",
       "\t 102.5078 & 58.88243 &  0.46531815 & -0.5150879 & 1.6772575 & 14.860146 & 10.576487 & 127.39358 & 0 & -0.3496855 &  1.7987006 &  0.001971987 & -0.3590524 & -0.3631005 & -0.5727080 &  0.4725744 &  0.1819392\\\\\n",
       "\t 119.4844 & 48.76506 &  0.03146022 & -0.1121676 & 0.9991639 &  9.279612 & 19.206230 & 479.75657 & 0 &  0.3295950 &  0.3075809 & -0.417837447 & -0.2925451 & -0.3863266 & -0.8623251 &  2.3786190 &  3.4221149\\\\\n",
       "\t 142.0781 & 45.28807 & -0.32032843 &  0.2839525 & 5.3762542 & 29.009897 &  6.076266 &  37.83139 & 0 &  1.2336350 & -0.2048648 & -0.758235030 & -0.2271602 & -0.2364021 &  0.1616322 & -0.5213858 & -0.6416354\\\\\n",
       "\t ⋮ & ⋮ & ⋮ & ⋮ & ⋮ & ⋮ & ⋮ & ⋮ & ⋮ & ⋮ & ⋮ & ⋮ & ⋮ & ⋮ & ⋮ & ⋮ & ⋮\\\\\n",
       "\t 126.6250 & 55.72183 & 0.002946216 & -0.30321814 & 0.5342809 &  8.588882 & 23.913761 & 660.1970 & 0 &  0.6153116 &  1.3328840 & -0.44542816 & -0.3240805 & -0.4022498 & -0.8981724 & 3.418368 &  5.08136638\\\\\n",
       "\t  96.0000 & 44.19311 & 0.388673964 &  0.28134362 & 1.8712375 & 15.833746 &  9.634927 & 104.8216 & 0 & -0.6100816 & -0.3662423 & -0.07219043 & -0.2275908 & -0.3564563 & -0.5221803 & 0.264613 & -0.02562259\\\\\n",
       "\t 114.5078 & 53.90240 & 0.201161383 & -0.02478884 & 1.9464883 & 13.381731 & 10.007967 & 134.2389 & 0 &  0.1304686 &  1.0647331 & -0.25363128 & -0.2781220 & -0.3538788 & -0.6494344 & 0.347006 &  0.24488589\\\\\n",
       "\\end{tabular}\n"
      ],
      "text/markdown": [
       "\n",
       "A tibble: 4474 × 17\n",
       "\n",
       "| mean_ip &lt;dbl&gt; | std_ip &lt;dbl&gt; | kurt_ip &lt;dbl&gt; | skew_ip &lt;dbl&gt; | mean_dm_snr &lt;dbl&gt; | std_dm_snr &lt;dbl&gt; | kurt_dm_snr &lt;dbl&gt; | skew_dm_snr &lt;dbl&gt; | class &lt;fct&gt; | scaled_mean_ip &lt;dbl[,1]&gt; | scaled_std_ip &lt;dbl[,1]&gt; | scaled_kurt_ip &lt;dbl[,1]&gt; | scaled_skew_ip &lt;dbl[,1]&gt; | scaled_mean_dm_snr &lt;dbl[,1]&gt; | scaled_std_dm_snr &lt;dbl[,1]&gt; | scaled_kurt_dm_snr &lt;dbl[,1]&gt; | scaled_skew_dm_snr &lt;dbl[,1]&gt; |\n",
       "|---|---|---|---|---|---|---|---|---|---|---|---|---|---|---|---|---|\n",
       "| 102.5078 | 58.88243 |  0.46531815 | -0.5150879 | 1.6772575 | 14.860146 | 10.576487 | 127.39358 | 0 | -0.3496855 |  1.7987006 |  0.001971987 | -0.3590524 | -0.3631005 | -0.5727080 |  0.4725744 |  0.1819392 |\n",
       "| 119.4844 | 48.76506 |  0.03146022 | -0.1121676 | 0.9991639 |  9.279612 | 19.206230 | 479.75657 | 0 |  0.3295950 |  0.3075809 | -0.417837447 | -0.2925451 | -0.3863266 | -0.8623251 |  2.3786190 |  3.4221149 |\n",
       "| 142.0781 | 45.28807 | -0.32032843 |  0.2839525 | 5.3762542 | 29.009897 |  6.076266 |  37.83139 | 0 |  1.2336350 | -0.2048648 | -0.758235030 | -0.2271602 | -0.2364021 |  0.1616322 | -0.5213858 | -0.6416354 |\n",
       "| ⋮ | ⋮ | ⋮ | ⋮ | ⋮ | ⋮ | ⋮ | ⋮ | ⋮ | ⋮ | ⋮ | ⋮ | ⋮ | ⋮ | ⋮ | ⋮ | ⋮ |\n",
       "| 126.6250 | 55.72183 | 0.002946216 | -0.30321814 | 0.5342809 |  8.588882 | 23.913761 | 660.1970 | 0 |  0.6153116 |  1.3328840 | -0.44542816 | -0.3240805 | -0.4022498 | -0.8981724 | 3.418368 |  5.08136638 |\n",
       "|  96.0000 | 44.19311 | 0.388673964 |  0.28134362 | 1.8712375 | 15.833746 |  9.634927 | 104.8216 | 0 | -0.6100816 | -0.3662423 | -0.07219043 | -0.2275908 | -0.3564563 | -0.5221803 | 0.264613 | -0.02562259 |\n",
       "| 114.5078 | 53.90240 | 0.201161383 | -0.02478884 | 1.9464883 | 13.381731 | 10.007967 | 134.2389 | 0 |  0.1304686 |  1.0647331 | -0.25363128 | -0.2781220 | -0.3538788 | -0.6494344 | 0.347006 |  0.24488589 |\n",
       "\n"
      ],
      "text/plain": [
       "     mean_ip  std_ip   kurt_ip     skew_ip     mean_dm_snr std_dm_snr\n",
       "1    102.5078 58.88243  0.46531815 -0.5150879  1.6772575   14.860146 \n",
       "2    119.4844 48.76506  0.03146022 -0.1121676  0.9991639    9.279612 \n",
       "3    142.0781 45.28807 -0.32032843  0.2839525  5.3762542   29.009897 \n",
       "⋮    ⋮        ⋮        ⋮           ⋮           ⋮           ⋮         \n",
       "4472 126.6250 55.72183 0.002946216 -0.30321814 0.5342809    8.588882 \n",
       "4473  96.0000 44.19311 0.388673964  0.28134362 1.8712375   15.833746 \n",
       "4474 114.5078 53.90240 0.201161383 -0.02478884 1.9464883   13.381731 \n",
       "     kurt_dm_snr skew_dm_snr class scaled_mean_ip scaled_std_ip scaled_kurt_ip\n",
       "1    10.576487   127.39358   0     -0.3496855      1.7987006     0.001971987  \n",
       "2    19.206230   479.75657   0      0.3295950      0.3075809    -0.417837447  \n",
       "3     6.076266    37.83139   0      1.2336350     -0.2048648    -0.758235030  \n",
       "⋮    ⋮           ⋮           ⋮     ⋮              ⋮             ⋮             \n",
       "4472 23.913761   660.1970    0      0.6153116      1.3328840    -0.44542816   \n",
       "4473  9.634927   104.8216    0     -0.6100816     -0.3662423    -0.07219043   \n",
       "4474 10.007967   134.2389    0      0.1304686      1.0647331    -0.25363128   \n",
       "     scaled_skew_ip scaled_mean_dm_snr scaled_std_dm_snr scaled_kurt_dm_snr\n",
       "1    -0.3590524     -0.3631005         -0.5727080         0.4725744        \n",
       "2    -0.2925451     -0.3863266         -0.8623251         2.3786190        \n",
       "3    -0.2271602     -0.2364021          0.1616322        -0.5213858        \n",
       "⋮    ⋮              ⋮                  ⋮                 ⋮                 \n",
       "4472 -0.3240805     -0.4022498         -0.8981724        3.418368          \n",
       "4473 -0.2275908     -0.3564563         -0.5221803        0.264613          \n",
       "4474 -0.2781220     -0.3538788         -0.6494344        0.347006          \n",
       "     scaled_skew_dm_snr\n",
       "1     0.1819392        \n",
       "2     3.4221149        \n",
       "3    -0.6416354        \n",
       "⋮    ⋮                 \n",
       "4472  5.08136638       \n",
       "4473 -0.02562259       \n",
       "4474  0.24488589       "
      ]
     },
     "metadata": {},
     "output_type": "display_data"
    }
   ],
   "source": [
    "pulsar_test_scaled <- pulsar_test %>% \n",
    " mutate(scaled_mean_ip = scale(mean_ip, center = TRUE), \n",
    "        scaled_std_ip = scale(std_ip, center = TRUE), \n",
    "        scaled_kurt_ip = scale(kurt_ip, center = TRUE), \n",
    "        scaled_skew_ip = scale(skew_ip, center = TRUE), \n",
    "        scaled_mean_dm_snr = scale(mean_dm_snr, center = TRUE), \n",
    "        scaled_std_dm_snr = scale(std_dm_snr, center = TRUE), \n",
    "        scaled_kurt_dm_snr = scale(kurt_dm_snr, center = TRUE), \n",
    "        scaled_skew_dm_snr = scale(skew_dm_snr, center = TRUE))\n",
    "pulsar_test_scaled"
   ]
  },
  {
   "cell_type": "code",
   "execution_count": 5,
   "metadata": {},
   "outputs": [
    {
     "data": {
      "text/html": [
       "0"
      ],
      "text/latex": [
       "0"
      ],
      "text/markdown": [
       "0"
      ],
      "text/plain": [
       "[1] 0"
      ]
     },
     "metadata": {},
     "output_type": "display_data"
    }
   ],
   "source": [
    "sum(is.na(pulsar_train)) #checking for missing values in training data "
   ]
  },
  {
   "cell_type": "code",
   "execution_count": 6,
   "metadata": {},
   "outputs": [
    {
     "name": "stderr",
     "output_type": "stream",
     "text": [
      "`summarise()` ungrouping output (override with `.groups` argument)\n",
      "\n"
     ]
    },
    {
     "data": {
      "text/html": [
       "<table>\n",
       "<caption>A tibble: 2 × 2</caption>\n",
       "<thead>\n",
       "\t<tr><th scope=col>class</th><th scope=col>n</th></tr>\n",
       "\t<tr><th scope=col>&lt;fct&gt;</th><th scope=col>&lt;int&gt;</th></tr>\n",
       "</thead>\n",
       "<tbody>\n",
       "\t<tr><td>0</td><td>12169</td></tr>\n",
       "\t<tr><td>1</td><td> 1255</td></tr>\n",
       "</tbody>\n",
       "</table>\n"
      ],
      "text/latex": [
       "A tibble: 2 × 2\n",
       "\\begin{tabular}{ll}\n",
       " class & n\\\\\n",
       " <fct> & <int>\\\\\n",
       "\\hline\n",
       "\t 0 & 12169\\\\\n",
       "\t 1 &  1255\\\\\n",
       "\\end{tabular}\n"
      ],
      "text/markdown": [
       "\n",
       "A tibble: 2 × 2\n",
       "\n",
       "| class &lt;fct&gt; | n &lt;int&gt; |\n",
       "|---|---|\n",
       "| 0 | 12169 |\n",
       "| 1 |  1255 |\n",
       "\n"
      ],
      "text/plain": [
       "  class n    \n",
       "1 0     12169\n",
       "2 1      1255"
      ]
     },
     "metadata": {},
     "output_type": "display_data"
    }
   ],
   "source": [
    "#pulsar observation counts with 0's and 1's\n",
    "count_train_pulsar <- pulsar_train %>%\n",
    "    group_by(class) %>%\n",
    "    summarize(n = n())\n",
    "count_train_pulsar"
   ]
  },
  {
   "cell_type": "markdown",
   "metadata": {},
   "source": [
    "## Methods"
   ]
  },
  {
   "cell_type": "markdown",
   "metadata": {},
   "source": [
    "We first loaded the dataset and added column names, and changed class into a fct instead of a dbl since this is the binary variable that we are trying to predict for. We will be likely using all of the variables since we only have 8 continuous variables to start with and we will try to visualize the relationship using a scatterplot between each of those variables and whether they all contribute equally to whether a signal detected is classified as a pulsar star or not. The scatterplots will have points that are distinguised by different colours represented its class, allowing us to see which variables (i.e. integrated profile mean) may be a potential indicator or a defining characteristic of potential pulsar candidates. We will use the K-nearest neighbor classification and cross-validation to determine the k that we will use, we intend to use 5 folds to tune the model and maximize the accuracy of our model, this process will be done with all eight continuous variables outlined below. \n",
    "\n",
    "The eight continuous variables that we will be using are are the mean, standard deviation, excess kurtosis, and skewness, of the integrated pulse profile and of the the DM-SNR curve. These correspond to the column names mean_ip, std_ip, kurt_ip, skew_ip, mean_dm_snr, std_dm_snr, kurt_dm_snr, skew_dm_snr; and what we are trying to predict for is class. "
   ]
  },
  {
   "cell_type": "markdown",
   "metadata": {},
   "source": [
    "## Expected Outcomes and Significance"
   ]
  },
  {
   "cell_type": "markdown",
   "metadata": {},
   "source": [
    "####  What do you expect to find?\n",
    "- we expect to find a relationship between the integrated profile and pulsar star candidates as well as a relationship between the DM-SNR curve and pulsar star candiadates. \n",
    "- the properties (i.e. mean, standard deviation, skewness etc.) of the integrated profile and DM-SNR curve generated for each star or detected emission pattern would likely be able to predict whether the emission detected is one from a pulsar star or not. \n",
    "\n",
    "** be more specific, i.e given these set of characteristics, this is what i expect to find"
   ]
  },
  {
   "cell_type": "markdown",
   "metadata": {},
   "source": [
    "#### What impact could such findings have? "
   ]
  },
  {
   "cell_type": "markdown",
   "metadata": {},
   "source": [
    "- the findings from this project can help with the quick identification of pulsar star candidates which are incredibly important in the scientific study of extreme states of matter, exploration of planets beyond the solar system, in the measurement of distances in space, and potentially even in the study of blackholes. \n",
    "- by being able to use certain characteristics to predict or classify a detected emission as potentially being a pulsar star with a high estimation accuracy, this will allow scientists and astronomers to quickly identify pulsar star candidates with relative confidence and save them time from not having to do in depth and long-winded classification procedures for every single emission - allowing more time to be spent on the actual study of for example the solar system. The model that we create and the findings that will be created will be able to act as a sort of vetting process for pulsar star candidates to allow researchers to work more efficiently.  "
   ]
  },
  {
   "cell_type": "markdown",
   "metadata": {},
   "source": [
    "#### What future questions could this lead to?\n"
   ]
  },
  {
   "cell_type": "markdown",
   "metadata": {},
   "source": [
    "- by creating a model and exploring the relationship between the characteristics of a radio emission and its potential of being from a pulsar star candidate, astronomers and researchers will have an easier time in the identification of pulsar stars and be able to save themselves time and dedicate that to learning more about their topic of interest (i.e. blackholes or cosmic distances etc.) \n",
    "- our findings and project could also lead to questions such as these being asked: \n",
    "    - why do pulsar stars have those predictor variable characteristics? \n",
    "    - are the common characteristics between pulsar stars legitimate or was it just a lucky coincidence? \n",
    "    - since the predictor variables explored are continuous numeric values, are there any thresholds for each variable that determine if a star is potentially pulsar or not? Are there specific characteristics that have to be fulfilled in order for a star to be classified as pulsar? "
   ]
  },
  {
   "cell_type": "code",
   "execution_count": null,
   "metadata": {},
   "outputs": [],
   "source": []
  }
 ],
 "metadata": {
  "kernelspec": {
   "display_name": "R",
   "language": "R",
   "name": "ir"
  },
  "language_info": {
   "codemirror_mode": "r",
   "file_extension": ".r",
   "mimetype": "text/x-r-source",
   "name": "R",
   "pygments_lexer": "r",
   "version": "4.0.0"
  }
 },
 "nbformat": 4,
 "nbformat_minor": 4
}
