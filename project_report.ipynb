{
 "cells": [
  {
   "cell_type": "code",
   "execution_count": 1,
   "metadata": {},
   "outputs": [
    {
     "name": "stderr",
     "output_type": "stream",
     "text": [
      "── \u001b[1mAttaching packages\u001b[22m ─────────────────────────────────────── tidyverse 1.3.0 ──\n",
      "\n",
      "\u001b[32m✔\u001b[39m \u001b[34mggplot2\u001b[39m 3.3.2     \u001b[32m✔\u001b[39m \u001b[34mpurrr  \u001b[39m 0.3.4\n",
      "\u001b[32m✔\u001b[39m \u001b[34mtibble \u001b[39m 3.0.3     \u001b[32m✔\u001b[39m \u001b[34mdplyr  \u001b[39m 1.0.2\n",
      "\u001b[32m✔\u001b[39m \u001b[34mtidyr  \u001b[39m 1.1.2     \u001b[32m✔\u001b[39m \u001b[34mstringr\u001b[39m 1.4.0\n",
      "\u001b[32m✔\u001b[39m \u001b[34mreadr  \u001b[39m 1.3.1     \u001b[32m✔\u001b[39m \u001b[34mforcats\u001b[39m 0.5.0\n",
      "\n",
      "Warning message:\n",
      "“package ‘ggplot2’ was built under R version 4.0.1”\n",
      "Warning message:\n",
      "“package ‘tibble’ was built under R version 4.0.2”\n",
      "Warning message:\n",
      "“package ‘tidyr’ was built under R version 4.0.2”\n",
      "Warning message:\n",
      "“package ‘dplyr’ was built under R version 4.0.2”\n",
      "── \u001b[1mConflicts\u001b[22m ────────────────────────────────────────── tidyverse_conflicts() ──\n",
      "\u001b[31m✖\u001b[39m \u001b[34mdplyr\u001b[39m::\u001b[32mfilter()\u001b[39m masks \u001b[34mstats\u001b[39m::filter()\n",
      "\u001b[31m✖\u001b[39m \u001b[34mdplyr\u001b[39m::\u001b[32mlag()\u001b[39m    masks \u001b[34mstats\u001b[39m::lag()\n",
      "\n",
      "Warning message:\n",
      "“package ‘tidymodels’ was built under R version 4.0.2”\n",
      "── \u001b[1mAttaching packages\u001b[22m ────────────────────────────────────── tidymodels 0.1.1 ──\n",
      "\n",
      "\u001b[32m✔\u001b[39m \u001b[34mbroom    \u001b[39m 0.7.0      \u001b[32m✔\u001b[39m \u001b[34mrecipes  \u001b[39m 0.1.13\n",
      "\u001b[32m✔\u001b[39m \u001b[34mdials    \u001b[39m 0.0.9      \u001b[32m✔\u001b[39m \u001b[34mrsample  \u001b[39m 0.0.7 \n",
      "\u001b[32m✔\u001b[39m \u001b[34minfer    \u001b[39m 0.5.4      \u001b[32m✔\u001b[39m \u001b[34mtune     \u001b[39m 0.1.1 \n",
      "\u001b[32m✔\u001b[39m \u001b[34mmodeldata\u001b[39m 0.0.2      \u001b[32m✔\u001b[39m \u001b[34mworkflows\u001b[39m 0.2.0 \n",
      "\u001b[32m✔\u001b[39m \u001b[34mparsnip  \u001b[39m 0.1.3      \u001b[32m✔\u001b[39m \u001b[34myardstick\u001b[39m 0.0.7 \n",
      "\n",
      "Warning message:\n",
      "“package ‘broom’ was built under R version 4.0.2”\n",
      "Warning message:\n",
      "“package ‘dials’ was built under R version 4.0.2”\n",
      "Warning message:\n",
      "“package ‘infer’ was built under R version 4.0.3”\n",
      "Warning message:\n",
      "“package ‘modeldata’ was built under R version 4.0.1”\n",
      "Warning message:\n",
      "“package ‘parsnip’ was built under R version 4.0.2”\n",
      "Warning message:\n",
      "“package ‘recipes’ was built under R version 4.0.1”\n",
      "Warning message:\n",
      "“package ‘tune’ was built under R version 4.0.2”\n",
      "Warning message:\n",
      "“package ‘workflows’ was built under R version 4.0.2”\n",
      "Warning message:\n",
      "“package ‘yardstick’ was built under R version 4.0.2”\n",
      "── \u001b[1mConflicts\u001b[22m ───────────────────────────────────────── tidymodels_conflicts() ──\n",
      "\u001b[31m✖\u001b[39m \u001b[34mscales\u001b[39m::\u001b[32mdiscard()\u001b[39m masks \u001b[34mpurrr\u001b[39m::discard()\n",
      "\u001b[31m✖\u001b[39m \u001b[34mdplyr\u001b[39m::\u001b[32mfilter()\u001b[39m   masks \u001b[34mstats\u001b[39m::filter()\n",
      "\u001b[31m✖\u001b[39m \u001b[34mrecipes\u001b[39m::\u001b[32mfixed()\u001b[39m  masks \u001b[34mstringr\u001b[39m::fixed()\n",
      "\u001b[31m✖\u001b[39m \u001b[34mdplyr\u001b[39m::\u001b[32mlag()\u001b[39m      masks \u001b[34mstats\u001b[39m::lag()\n",
      "\u001b[31m✖\u001b[39m \u001b[34myardstick\u001b[39m::\u001b[32mspec()\u001b[39m masks \u001b[34mreadr\u001b[39m::spec()\n",
      "\u001b[31m✖\u001b[39m \u001b[34mrecipes\u001b[39m::\u001b[32mstep()\u001b[39m   masks \u001b[34mstats\u001b[39m::step()\n",
      "\n",
      "Warning message:\n",
      "“package ‘cowplot’ was built under R version 4.0.3”\n",
      "Registered S3 method overwritten by 'GGally':\n",
      "  method from   \n",
      "  +.gg   ggplot2\n",
      "\n"
     ]
    },
    {
     "ename": "ERROR",
     "evalue": "Error in library(themis): there is no package called ‘themis’\n",
     "output_type": "error",
     "traceback": [
      "Error in library(themis): there is no package called ‘themis’\nTraceback:\n",
      "1. library(themis)"
     ]
    }
   ],
   "source": [
    "set.seed(2000)\n",
    "library(tidyverse)\n",
    "library(tidymodels)\n",
    "library(repr)\n",
    "library(cowplot)\n",
    "library(GGally)\n",
    "library(ISLR)\n",
    "library(themis)\n",
    "options(repr.matrix.max.rows = 6)"
   ]
  },
  {
   "cell_type": "code",
   "execution_count": null,
   "metadata": {},
   "outputs": [],
   "source": [
    "temp <- tempfile()\n",
    "download.file(\"https://archive.ics.uci.edu/ml/machine-learning-databases/00372/HTRU2.zip\", temp)\n",
    "pulsar_file <- unz(temp, \"HTRU_2.csv\")\n",
    "pulsar <- read_csv(pulsar_file, col_names = FALSE)"
   ]
  },
  {
   "cell_type": "code",
   "execution_count": null,
   "metadata": {},
   "outputs": [],
   "source": [
    "colnames(pulsar) <- c(\"mean_ip\", \"std_ip\", \"kurt_ip\", \"skew_ip\", \"mean_dm_snr\", \"std_dm_snr\", \"kurt_dm_snr\", \"skew_dm_snr\", \"class\")\n",
    "\n",
    "pulsar_mutate <- pulsar %>%\n",
    "                mutate(class = as_factor(class))\n",
    "pulsar_mutate"
   ]
  },
  {
   "cell_type": "code",
   "execution_count": null,
   "metadata": {},
   "outputs": [],
   "source": [
    "# average of each column containing dbl values\n",
    "pulsar_with_column_means <- pulsar %>%\n",
    "                select(mean_ip:skew_dm_snr) %>%\n",
    "                map_df(mean)\n",
    "pulsar_with_column_means"
   ]
  },
  {
   "cell_type": "code",
   "execution_count": null,
   "metadata": {},
   "outputs": [],
   "source": [
    "pulsar_split <- initial_split(pulsar_mutate, prop = 0.75, strata = class)\n",
    "pulsar_train <- training(pulsar_split) \n",
    "pulsar_test <- testing(pulsar_split)"
   ]
  },
  {
   "cell_type": "code",
   "execution_count": null,
   "metadata": {},
   "outputs": [],
   "source": [
    "options(repr.plot.height = 15, repr.plot.width = 15)\n",
    "correlation <- ggpairs(pulsar_train, mapping = aes(color = class, alpha = 0.5))\n",
    "correlation\n",
    "# options(repr.plot.height = 10, repr.plot.width = 10)\n",
    "### all predictor variables can be used because there seems to be a cut off for each variable regarding the areas that factor 0 and 1 take up more or less "
   ]
  },
  {
   "cell_type": "code",
   "execution_count": null,
   "metadata": {},
   "outputs": [],
   "source": [
    "pulsar_train_scaled <- pulsar_train %>% \n",
    " mutate(mean_ip = scale(mean_ip, center = TRUE), \n",
    "        std_ip = scale(std_ip, center = TRUE), \n",
    "        kurt_ip = scale(kurt_ip, center = TRUE), \n",
    "        skew_ip = scale(skew_ip, center = TRUE), \n",
    "        mean_dm_snr = scale(mean_dm_snr, center = TRUE), \n",
    "        std_dm_snr = scale(std_dm_snr, center = TRUE), \n",
    "        kurt_dm_snr = scale(kurt_dm_snr, center = TRUE), \n",
    "        skew_dm_snr = scale(skew_dm_snr, center = TRUE))\n",
    "pulsar_train_scaled"
   ]
  },
  {
   "cell_type": "code",
   "execution_count": null,
   "metadata": {},
   "outputs": [],
   "source": []
  },
  {
   "cell_type": "code",
   "execution_count": null,
   "metadata": {},
   "outputs": [],
   "source": [
    "sum(is.na(pulsar_train)) #checking for missing values in training data "
   ]
  },
  {
   "cell_type": "code",
   "execution_count": null,
   "metadata": {},
   "outputs": [],
   "source": [
    "#pulsar observation counts with 0's and 1's\n",
    "count_train_pulsar <- pulsar_train %>%\n",
    "    group_by(class) %>%\n",
    "    summarize(n = n())\n",
    "count_train_pulsar"
   ]
  },
  {
   "cell_type": "code",
   "execution_count": null,
   "metadata": {},
   "outputs": [],
   "source": [
    "options(repr.plot.width = 13, repr.plot.height = 13)\n",
    "\n",
    "plot_mean_ip_dmsnr <- ggplot(pulsar_train_scaled, aes(x = mean_dm_snr, y =mean_ip , color = class)) +\n",
    "                geom_point(alpha = 0.4) +\n",
    "                labs(x = \"Mean of the DM-SNR curve\", y = \"Mean integrated profile\", color = \"Class\") +\n",
    "                theme(text = element_text(size = 12)) +\n",
    "                ggtitle(\"Mean integrated profile vs Mean of the DM-SNR curve\") \n",
    "\n",
    "plot_skew_ip_dmsnr <- ggplot(pulsar_train_scaled, aes(x = skew_dm_snr, y= skew_ip , color = class)) +\n",
    "                geom_point(alpha = 0.1) +\n",
    "                labs(x = \"Skewness of the DM-SNR curve\", y = \"Skewness integrated profile\", color = \"Class\") +\n",
    "                theme(text = element_text(size = 12)) +\n",
    "                ggtitle(\"Skewness integrated profile vs Skewness of the DM-SNR curve\") \n",
    "\n",
    "plot_kurt_ip_dmsnr <- ggplot(pulsar_train_scaled, aes(x = kurt_dm_snr, y= kurt_ip , color = class)) +\n",
    "                geom_point(alpha = 0.4) +\n",
    "                labs(x = \"kurtosis of the DM-SNR curve\", y = \"kurtosis integrated profile\", color = \"Class\") +\n",
    "                theme(text = element_text(size = 12)) +\n",
    "                ggtitle(\"Kurtosis integrated profile vs Kurtosis of the DM-SNR curve\") \n",
    "\n",
    "plot_std_ip_dmsnr <- ggplot(pulsar_train_scaled, aes(x = kurt_dm_snr, y= kurt_ip , color = class)) +\n",
    "                geom_point(alpha = 0.1) +\n",
    "                labs(x = \"Standard deviation of the DM-SNR curve\", y = \"Standard deviation integrated profile\", color = \"Class\") +\n",
    "                theme(text = element_text(size = 9)) +\n",
    "                ggtitle(\"Standard deviation of integrated profile vs Standard deviation of the DM-SNR curve\") \n",
    "\n",
    "plot_grid(plot_mean_ip_dmsnr, plot_skew_ip_dmsnr, plot_kurt_ip_dmsnr, plot_std_ip_dmsnr, ncol = 2, nrow = 2)"
   ]
  },
  {
   "cell_type": "code",
   "execution_count": null,
   "metadata": {},
   "outputs": [],
   "source": [
    "###SCALED PLOTS ABOVE "
   ]
  },
  {
   "cell_type": "code",
   "execution_count": null,
   "metadata": {},
   "outputs": [],
   "source": [
    "options(repr.plot.width = 13, repr.plot.height = 13)\n",
    "\n",
    "plot_mean_ip_dmsnr <- ggplot(pulsar_train, aes(x = mean_dm_snr, y =mean_ip , color = class)) +\n",
    "                geom_point(alpha = 0.4) +\n",
    "                labs(x = \"Mean of the DM-SNR curve\", y = \"Mean integrated profile\", color = \"Class\") +\n",
    "                theme(text = element_text(size = 12)) +\n",
    "                ggtitle(\"Mean integrated profile vs Mean of the DM-SNR curve\") \n",
    "\n",
    "plot_skew_ip_dmsnr <- ggplot(pulsar_train, aes(x = skew_dm_snr, y= skew_ip , color = class)) +\n",
    "                geom_point(alpha = 0.1) +\n",
    "                labs(x = \"Skewness of the DM-SNR curve\", y = \"Skewness integrated profile\", color = \"Class\") +\n",
    "                theme(text = element_text(size = 12)) +\n",
    "                ggtitle(\"Skewness integrated profile vs Skewness of the DM-SNR curve\") \n",
    "\n",
    "plot_kurt_ip_dmsnr <- ggplot(pulsar_train, aes(x = kurt_dm_snr, y= kurt_ip , color = class)) +\n",
    "                geom_point(alpha = 0.4) +\n",
    "                labs(x = \"kurtosis of the DM-SNR curve\", y = \"kurtosis integrated profile\", color = \"Class\") +\n",
    "                theme(text = element_text(size = 12)) +\n",
    "                ggtitle(\"Kurtosis integrated profile vs Kurtosis of the DM-SNR curve\") \n",
    "\n",
    "plot_std_ip_dmsnr <- ggplot(pulsar_train, aes(x = kurt_dm_snr, y= kurt_ip , color = class)) +\n",
    "                geom_point(alpha = 0.1) +\n",
    "                labs(x = \"Standard deviation of the DM-SNR curve\", y = \"Standard deviation integrated profile\", color = \"Class\") +\n",
    "                theme(text = element_text(size = 9)) +\n",
    "                ggtitle(\"Standard deviation of integrated profile vs Standard deviation of the DM-SNR curve\") \n",
    "\n",
    "plot_grid(plot_mean_ip_dmsnr, plot_skew_ip_dmsnr, plot_kurt_ip_dmsnr, plot_std_ip_dmsnr, ncol = 2, nrow = 2)"
   ]
  },
  {
   "cell_type": "code",
   "execution_count": null,
   "metadata": {},
   "outputs": [],
   "source": [
    "###UNSCALED PLOTS ABOVE"
   ]
  },
  {
   "cell_type": "code",
   "execution_count": null,
   "metadata": {},
   "outputs": [],
   "source": [
    "### start data analysis = look for K "
   ]
  },
  {
   "cell_type": "code",
   "execution_count": null,
   "metadata": {},
   "outputs": [],
   "source": [
    "# ACCOUNTING FOR ALL 8 PREDICTOR VARIABLES \n",
    "# RECIPE USES TRAINING DATA \n",
    "pulsar_recipe <- recipe(class ~. , data = pulsar_train) %>%\n",
    "  step_scale(all_predictors()) %>%\n",
    "  step_center(all_predictors())\n",
    "\n",
    "# MODEL SPEC TO DETERMINE K \n",
    "pulsar_spec <- nearest_neighbor(weight_func = \"rectangular\", \n",
    "                             neighbors = tune()) %>% \n",
    "  set_engine(\"kknn\") %>%\n",
    "  set_mode(\"classification\")\n",
    "\n",
    "# USING CROSS-VALIDATION TO HELP US DETERMINE K \n",
    "# CHOSE V = 5 INSTEAD OF V=10 TO REDUCE RUN TIME \n",
    "pulsar_vfold <- vfold_cv(pulsar_train, v = 5, strata = class)\n"
   ]
  },
  {
   "cell_type": "code",
   "execution_count": null,
   "metadata": {},
   "outputs": [],
   "source": [
    "# WE ARE LOOKING AT K VALUES BETWEEN 1-15 \n",
    "k_vals <- tibble(neighbors = seq(from = 1, to = 10, by = 1))\n",
    "\n",
    "# GETTING RESULTS FOR THE RECIPE, MODEL SPEC, AND CROSS-VALIDATION FROM ABOVE \n",
    "pulsar_results <- workflow() %>%\n",
    "  add_recipe(pulsar_recipe) %>% # recipe\n",
    "  add_model(pulsar_spec) %>% # model spec with tune()\n",
    "  tune_grid(resamples = pulsar_vfold, grid = k_vals) %>%\n",
    "  collect_metrics() \n",
    "\n",
    "# GETTING ACCURACIES SO WE CAN PLOT AN ACCURACY VS K PLOT TO DETERMINE OUR IDEAL K \n",
    "accuracies <- pulsar_results %>%\n",
    "  filter(.metric == \"accuracy\")\n",
    "\n",
    "accuracies\n",
    "\n",
    "# PLOTTING ACCURACY VS K \n",
    "accuracy_vs_k <- ggplot(accuracies, aes(x = neighbors, y = mean)) +\n",
    "  geom_point() +\n",
    "  geom_line() +\n",
    "  labs(x = \"Neighbors\", y = \"Accuracy Estimate\") + \n",
    "  theme(text = element_text(size = 12))\n",
    "\n",
    "accuracy_vs_k\n"
   ]
  },
  {
   "cell_type": "code",
   "execution_count": null,
   "metadata": {},
   "outputs": [],
   "source": [
    "accuracy_for_7 <- accuracies %>%\n",
    "        filter(neighbors == 7)\n",
    "accuracy_for_7"
   ]
  },
  {
   "cell_type": "code",
   "execution_count": null,
   "metadata": {},
   "outputs": [],
   "source": [
    "pulsar_final_spec <- nearest_neighbor(weight_func = \"rectangular\", \n",
    "                             neighbors = 7) %>% \n",
    "  set_engine(\"kknn\") %>%\n",
    "  set_mode(\"classification\")\n",
    "                                      \n",
    "pulsar_final_fit <- workflow() %>%\n",
    "    add_recipe(pulsar_recipe) %>% \n",
    "    add_model(pulsar_final_spec) %>% \n",
    "    fit(data = pulsar_train)\n",
    "                                      \n",
    "prediction <- predict(pulsar_final_fit, pulsar_test) %>%\n",
    "      bind_cols(pulsar_test)\n",
    "\n",
    "prediction\n",
    "\n",
    "test_set_accuracy <- prediction %>% # predictions object  \n",
    "  metrics(truth = class, estimate = .pred_class) %>% # cat. variable\n",
    "  filter(.metric == \"accuracy\") %>% # gives estimated accuracy %\n",
    "  select(.estimate) %>% # for returning of only one value\n",
    "  pull() # return only one value \n",
    "\n",
    "test_set_accuracy\n",
    "                                      "
   ]
  },
  {
   "cell_type": "code",
   "execution_count": null,
   "metadata": {},
   "outputs": [],
   "source": [
    "\n"
   ]
  },
  {
   "cell_type": "code",
   "execution_count": null,
   "metadata": {},
   "outputs": [],
   "source": []
  },
  {
   "cell_type": "code",
   "execution_count": null,
   "metadata": {},
   "outputs": [],
   "source": []
  },
  {
   "cell_type": "code",
   "execution_count": null,
   "metadata": {},
   "outputs": [],
   "source": []
  }
 ],
 "metadata": {
  "kernelspec": {
   "display_name": "R",
   "language": "R",
   "name": "ir"
  },
  "language_info": {
   "codemirror_mode": "r",
   "file_extension": ".r",
   "mimetype": "text/x-r-source",
   "name": "R",
   "pygments_lexer": "r",
   "version": "4.0.0"
  }
 },
 "nbformat": 4,
 "nbformat_minor": 4
}
